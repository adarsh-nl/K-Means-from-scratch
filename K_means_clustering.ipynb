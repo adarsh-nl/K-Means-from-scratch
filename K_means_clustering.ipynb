{
  "cells": [
    {
      "cell_type": "code",
      "execution_count": 3,
      "metadata": {
        "id": "h2fQI41BZQy9"
      },
      "outputs": [],
      "source": [
        "import numpy as np\n",
        "import matplotlib.pyplot as plt\n",
        "import math"
      ]
    },
    {
      "cell_type": "code",
      "execution_count": 4,
      "metadata": {
        "id": "8X4hWje8ZQzA"
      },
      "outputs": [],
      "source": [
        "DEBUG = True\n",
        "\n",
        "def debug(str):\n",
        "    if DEBUG:\n",
        "        print(str)\n"
      ]
    },
    {
      "cell_type": "code",
      "execution_count": 5,
      "metadata": {
        "colab": {
          "base_uri": "https://localhost:8080/",
          "height": 70
        },
        "id": "3ynveN10ZQzB",
        "outputId": "7414379e-5fa1-45a3-81f3-985c26e6b458"
      },
      "outputs": [
        {
          "output_type": "execute_result",
          "data": {
            "text/plain": [
              "'\\n\\ndata = np.random.randint(10,35, size=(25,1))\\ndata = np.append(data, np.random.randint(55,75, size=(25,1)))\\ndata = np.append(data, np.random.randint(100,150, size=(25,1)))\\n\\ndata1 = np.append(np.append(np.random.randint(10,35, size=(25,1)), np.random.randint(55,75, size=(25,1))), np.random.randint(100,150, size=(25,1)))\\n\\n#data = np.concatenate((data, data1.T), axis = 1)\\n#data = np.append(data,np.append(np.append(np.random.randint(10,35, size=25), np.random.randint(55,75, size=25)), np.random.randint(100,150, size=25)),axis=1)\\n'"
            ],
            "application/vnd.google.colaboratory.intrinsic+json": {
              "type": "string"
            }
          },
          "metadata": {},
          "execution_count": 5
        }
      ],
      "source": [
        "\"\"\"\n",
        "\n",
        "data = np.random.randint(10,35, size=(25,1))\n",
        "data = np.append(data, np.random.randint(55,75, size=(25,1)))\n",
        "data = np.append(data, np.random.randint(100,150, size=(25,1)))\n",
        "\n",
        "data1 = np.append(np.append(np.random.randint(10,35, size=(25,1)), np.random.randint(55,75, size=(25,1))), np.random.randint(100,150, size=(25,1)))\n",
        "\n",
        "#data = np.concatenate((data, data1.T), axis = 1)\n",
        "#data = np.append(data,np.append(np.append(np.random.randint(10,35, size=25), np.random.randint(55,75, size=25)), np.random.randint(100,150, size=25)),axis=1)\n",
        "\"\"\""
      ]
    },
    {
      "cell_type": "code",
      "execution_count": 6,
      "metadata": {
        "id": "t6OBA7HoZQzE"
      },
      "outputs": [],
      "source": [
        "def create_data(lowerlimit, upperlimit, length):\n",
        "    x = np.random.randint(lowerlimit,upperlimit, size=(length,1))\n",
        "    y = np.random.randint(lowerlimit,upperlimit, size=(length,1))\n",
        "\n",
        "    data = np.append(x,y,axis=1)\n",
        "    return data, x, y"
      ]
    },
    {
      "cell_type": "code",
      "execution_count": 7,
      "metadata": {
        "colab": {
          "base_uri": "https://localhost:8080/"
        },
        "id": "LjxnWoLBZQzE",
        "outputId": "2400f81f-b2a3-444a-ae76-4643c87829b8"
      },
      "outputs": [
        {
          "output_type": "stream",
          "name": "stdout",
          "text": [
            "Mean of the dataset is [206.64, 206.4]\n",
            "(75, 2)\n"
          ]
        }
      ],
      "source": [
        "data, x_data, y_data = create_data(10,35,25)\n",
        "data1, x_data1, y_data1 = create_data(55,75,25)\n",
        "data2, x_data2, y_data2 = create_data(100,150,25)\n",
        "\n",
        "data = np.concatenate((data, data1, data2))\n",
        "data_x = np.concatenate((x_data, x_data1, x_data2))\n",
        "data_y = np.concatenate((y_data, y_data1, y_data2))\n",
        "\n",
        "x = x_data.mean()+ x_data1.mean() + x_data2.mean()\n",
        "y = y_data.mean()+ y_data1.mean() + y_data2.mean()\n",
        "#X = np.mean(x_data, x_data1, x_data2)\n",
        "#Y = np.mean(y_data, y_data1, y_data2)\n",
        "data_mean = [x, y]\n",
        "print(\"Mean of the dataset is {}\".format(data_mean))\n",
        "debug(data.shape)"
      ]
    },
    {
      "cell_type": "code",
      "execution_count": 29,
      "metadata": {
        "id": "847SgCrqZQzF",
        "colab": {
          "base_uri": "https://localhost:8080/",
          "height": 105
        },
        "outputId": "3a3af486-475d-4ca4-97bf-5b9bc2765efa"
      },
      "outputs": [
        {
          "output_type": "execute_result",
          "data": {
            "text/plain": [
              "'\\n\\ndef main(data, data_mean):\\n    fraction_of_variance_array = []\\n    for K in range(1, 9):\\n        #K = int(input(\"Enter the number of clusters\"))\\n        centroids = initial_centroids(data, K)\\n        debug(\"Randomly chosen initial centroids: {}\".format(centroids))\\n        current_cluster = Kmeans(data, K, centroids)\\n        debug(\"Initial cluster: {}\".format(current_cluster))\\n        updated_centroid = compute_centroid(data, current_cluster, K)\\n        debug(updated_centroid)\\n        updated_cluster = Kmeans(data, K, updated_centroid)\\n        debug(\"Updated cluster: {}\".format(updated_cluster))\\n        while not np.array_equal(current_cluster,updated_cluster): \\n            current_cluster = updated_cluster\\n            updated_centroid = compute_centroid(data, current_cluster, K)\\n            updated_cluster = Kmeans(data, K, updated_centroid)\\n        \\n        if(np.array_equal(current_cluster,updated_cluster)): \\n            print(\"The two arrays are equal for K: {}\".format(K))\\n\\n            SSE_between = compute_SSE_between(updated_centroid,updated_cluster,data_mean,data,K)\\n            print(SSE_between)\\n            SSE_total = compute_SSE_total(data, data_mean)\\n            print(SSE_total)\\n            fraction_of_variance = SSE_between/SSE_total\\n            fraction_of_variance_array.append(fraction_of_variance)\\n\\n\\n    X=[]\\n    for i in range(1,9):\\n        X.append(i)\\n    plt.plot(X, fraction_of_variance_array)\\n    plt.show()\\n    return updated_cluster\\n\\n'"
            ],
            "application/vnd.google.colaboratory.intrinsic+json": {
              "type": "string"
            }
          },
          "metadata": {},
          "execution_count": 29
        }
      ],
      "source": [
        "def initial_centroids(data, K):\n",
        "    index_for_picking_centriods = [np.random.randint(len(data)) for i in range(K)]\n",
        "    centroids=[]\n",
        "    for i in index_for_picking_centriods:\n",
        "        centroids.append(data[i])\n",
        "    debug(centroids)    \n",
        "    return centroids\n",
        "\n",
        "def calculate_distance_from_centroid(data, centroid):\n",
        "    distance = []\n",
        "    for i in range(len(data)):\n",
        "        #distance = np.append(((centroid[0]-data[i][0])**2 + (centroid[1]-data[i][1])**2), axis=1)\n",
        "        #distance.append(math.sqrt((centroid[0]-data[i][0])**2 + (centroid[1]-data[i][1])**2))\n",
        "        distance.append(np.sum(np.square(centroid - data[i])))\n",
        "    #print(distance)\n",
        "    return distance\n",
        "\n",
        "#Returns the updated centr-oid\n",
        "def compute_centroid(data,clusters,k):\n",
        "    centroid = [] #stores the centroid values\n",
        "    for i in range(k):\n",
        "        temp_arr=[]\n",
        "        for j in range(len(data)):\n",
        "            #checking one cluster at once and storing the respective cluster data points in the temp_arr\n",
        "            if clusters[j]==i:\n",
        "                temp_arr.append(data[j])\n",
        "        #taking mean among those points and storing it in the centroid array\n",
        "        centroid.append(np.mean(temp_arr,axis=0))\n",
        "    return np.asarray(centroid)\n",
        "\n",
        "\n",
        "def Kmeans(data, K, centroids):\n",
        "    distance_matrix = calculate_distance_from_centroid(data,centroids[0])\n",
        "    for i in range(1, len(centroids)):\n",
        "        distance_matrix = np.column_stack([distance_matrix, calculate_distance_from_centroid(data,centroids[i])])\n",
        "    #print(distance_matrix)\n",
        "    debug(distance_matrix)\n",
        "\n",
        "    #forming clusters based on the value of K. ie., K clusters are formed for grouping the data points\n",
        "    clusters = []\n",
        "    for data_points in range(len(distance_matrix)):\n",
        "        clusters.append(np.argmin(distance_matrix[data_points]))\n",
        "        #debug(\"Minimum value of each data point with respect to the clusters\")\n",
        "        #debug(distance_matrix[data_points].min())\n",
        "        #debug(\"Clusters for each data point\")\n",
        "        #debug(clusters)\n",
        "    return clusters\n",
        "\n",
        "def compute_SSE_between(centroid, cluster, mean_of_data,data,K):\n",
        "    cluster_count = 0\n",
        "    for i in range(K):\n",
        "        for j in range(len(cluster)):\n",
        "            #checking one cluster at once and storing the respective cluster data points in the temp_arr\n",
        "            if cluster[j]==i:\n",
        "                cluster_count+=1\n",
        "        #taking mean among those points and storing it in the centroid array\n",
        "        SSE_between = cluster_count * (centroid[i]-mean_of_data)\n",
        "    print(SSE_between)\n",
        "    return SSE_between\n",
        "    \n",
        "\n",
        "def compute_SSE_total(data, data_mean):\n",
        "    SSE = 0\n",
        "    for i in range(len(data)):\n",
        "        SSE += ((data[i][0]-data_mean[0])+(data[i][1]-data_mean[1]))\n",
        "    print(SSE)\n",
        "    return SSE\n",
        "\n",
        "\n",
        "def main(data, data_mean):\n",
        "    fraction_of_variance_array = []\n",
        "    K = int(input(\"Enter the number of clusters\"))\n",
        "    centroids = initial_centroids(data, K)\n",
        "    debug(\"Randomly chosen initial centroids: {}\".format(centroids))\n",
        "    current_cluster = Kmeans(data, K, centroids)\n",
        "    debug(\"Initial cluster: {}\".format(current_cluster))\n",
        "    updated_centroid = compute_centroid(data, current_cluster, K)\n",
        "    debug(updated_centroid)\n",
        "    updated_cluster = Kmeans(data, K, updated_centroid)\n",
        "    while not np.array_equal(current_cluster,updated_cluster): \n",
        "          current_cluster = updated_cluster\n",
        "          updated_centroid = compute_centroid(data, current_cluster, K)\n",
        "          updated_cluster = Kmeans(data, K, updated_centroid)\n",
        "        \n",
        "    if(np.array_equal(current_cluster,updated_cluster)): \n",
        "        print(\"The two arrays are equal for K: {}\".format(K))\n",
        "        SSE_between = compute_SSE_between(updated_centroid,updated_cluster,data_mean,data,K)\n",
        "        print(SSE_between)\n",
        "        SSE_total = compute_SSE_total(data, data_mean)\n",
        "        print(SSE_total)\n",
        "        fraction_of_variance = SSE_between/SSE_total\n",
        "        fraction_of_variance_array.append(fraction_of_variance)\n",
        "    return updated_cluster\n",
        "\n",
        "\"\"\"\n",
        "\n",
        "def main(data, data_mean):\n",
        "    fraction_of_variance_array = []\n",
        "    for K in range(1, 9):\n",
        "        #K = int(input(\"Enter the number of clusters\"))\n",
        "        centroids = initial_centroids(data, K)\n",
        "        debug(\"Randomly chosen initial centroids: {}\".format(centroids))\n",
        "        current_cluster = Kmeans(data, K, centroids)\n",
        "        debug(\"Initial cluster: {}\".format(current_cluster))\n",
        "        updated_centroid = compute_centroid(data, current_cluster, K)\n",
        "        debug(updated_centroid)\n",
        "        updated_cluster = Kmeans(data, K, updated_centroid)\n",
        "        debug(\"Updated cluster: {}\".format(updated_cluster))\n",
        "        while not np.array_equal(current_cluster,updated_cluster): \n",
        "            current_cluster = updated_cluster\n",
        "            updated_centroid = compute_centroid(data, current_cluster, K)\n",
        "            updated_cluster = Kmeans(data, K, updated_centroid)\n",
        "        \n",
        "        if(np.array_equal(current_cluster,updated_cluster)): \n",
        "            print(\"The two arrays are equal for K: {}\".format(K))\n",
        "\n",
        "            SSE_between = compute_SSE_between(updated_centroid,updated_cluster,data_mean,data,K)\n",
        "            print(SSE_between)\n",
        "            SSE_total = compute_SSE_total(data, data_mean)\n",
        "            print(SSE_total)\n",
        "            fraction_of_variance = SSE_between/SSE_total\n",
        "            fraction_of_variance_array.append(fraction_of_variance)\n",
        "\n",
        "\n",
        "    X=[]\n",
        "    for i in range(1,9):\n",
        "        X.append(i)\n",
        "    plt.plot(X, fraction_of_variance_array)\n",
        "    plt.show()\n",
        "    return updated_cluster\n",
        "\n",
        "\"\"\""
      ]
    },
    {
      "cell_type": "code",
      "execution_count": 30,
      "metadata": {
        "colab": {
          "base_uri": "https://localhost:8080/"
        },
        "id": "mkZuvfJWZQzK",
        "outputId": "b07c6ef1-2391-4394-9a7a-e2e49a2668ec"
      },
      "outputs": [
        {
          "output_type": "stream",
          "name": "stdout",
          "text": [
            "Enter the number of clusters3\n",
            "[array([58, 55]), array([26, 13]), array([74, 62])]\n",
            "Randomly chosen initial centroids: [array([58, 55]), array([26, 13]), array([74, 62])]\n",
            "[[ 3305   169  5536]\n",
            " [ 3965   197  6344]\n",
            " [ 2521    45  4450]\n",
            " [ 2378   482  4381]\n",
            " [ 2689   145  4736]\n",
            " [ 1901   265  3690]\n",
            " [ 2245    85  4100]\n",
            " [ 2746    98  4789]\n",
            " [ 2533    17  4426]\n",
            " [ 2257   137  4148]\n",
            " [ 2048   100  3825]\n",
            " [ 1808   196  3529]\n",
            " [ 2196   160  4073]\n",
            " [ 2788     0  4705]\n",
            " [ 2512   468  4561]\n",
            " [ 3700   104  5965]\n",
            " [ 3114   250  5321]\n",
            " [ 1901    85  3528]\n",
            " [ 1885   229  3656]\n",
            " [ 3305   169  5536]\n",
            " [ 1409   305  2960]\n",
            " [ 3033   481  5252]\n",
            " [ 2320   116  4225]\n",
            " [ 1885   229  3656]\n",
            " [ 1872   100  3449]\n",
            " [   72  3748   101]\n",
            " [    0  2788   305]\n",
            " [  117  4045   104]\n",
            " [   17  3205   234]\n",
            " [  232  4580   149]\n",
            " [  180  4240    17]\n",
            " [  421  5365    68]\n",
            " [  241  4545   208]\n",
            " [  493  5625   130]\n",
            " [   40  3204   325]\n",
            " [   25  2957   370]\n",
            " [  265  4205   442]\n",
            " [  305  4705     0]\n",
            " [    1  2853   274]\n",
            " [    1  2873   292]\n",
            " [   68  3536    89]\n",
            " [   10  2690   397]\n",
            " [    1  2725   338]\n",
            " [  130  4034   185]\n",
            " [    1  2853   274]\n",
            " [  109  3789    52]\n",
            " [   13  2925   340]\n",
            " [  136  4148   109]\n",
            " [   34  3050   365]\n",
            " [   58  3626   169]\n",
            " [12436 26960  9505]\n",
            " [ 8986 21650  6173]\n",
            " [10909 24649  8258]\n",
            " [ 8585 21037  5850]\n",
            " [ 8586 20338  5669]\n",
            " [ 7577 19517  5098]\n",
            " [ 8725 21377  6170]\n",
            " [ 8293 20021  5444]\n",
            " [13498 28322  9941]\n",
            " [ 7785 19885  5450]\n",
            " [ 9698 22850  7145]\n",
            " [12349 26825  9106]\n",
            " [ 9665 22769  6800]\n",
            " [11881 25533  8434]\n",
            " [ 8801 21073  5904]\n",
            " [ 6400 17316  3985]\n",
            " [15005 30685 11412]\n",
            " [ 6928 18100  4385]\n",
            " [ 8177 20417  5968]\n",
            " [ 6506 17770  4225]\n",
            " [ 8377 20813  5986]\n",
            " [ 6736 18068  4337]\n",
            " [11412 25120  8105]\n",
            " [ 4985 15229  3130]\n",
            " [ 8857 21437  6058]]\n",
            "Initial cluster: [1, 1, 1, 1, 1, 1, 1, 1, 1, 1, 1, 1, 1, 1, 1, 1, 1, 1, 1, 1, 1, 1, 1, 1, 1, 0, 0, 2, 0, 2, 2, 2, 2, 2, 0, 0, 0, 2, 0, 0, 0, 0, 0, 0, 0, 2, 0, 2, 0, 0, 2, 2, 2, 2, 2, 2, 2, 2, 2, 2, 2, 2, 2, 2, 2, 2, 2, 2, 2, 2, 2, 2, 2, 2, 2]\n",
            "[[ 58.375       59.125     ]\n",
            " [ 21.12        22.44      ]\n",
            " [108.94117647 107.44117647]]\n",
            "[[3.66040625e+03 7.04080000e+01 1.70135510e+04]\n",
            " [4.37140625e+03 1.92168000e+02 1.85066099e+04]\n",
            " [2.86140625e+03 1.53680000e+01 1.52077275e+04]\n",
            " [2.61715625e+03 1.28848000e+02 1.45163157e+04]\n",
            " [3.00840625e+03 9.92800000e+00 1.55704922e+04]\n",
            " [2.15890625e+03 4.65680000e+01 1.35389040e+04]\n",
            " [2.55990625e+03 8.48800000e+00 1.45151981e+04]\n",
            " [3.08115625e+03 1.04480000e+01 1.57353746e+04]\n",
            " [2.88840625e+03 4.46480000e+01 1.52257275e+04]\n",
            " [2.55690625e+03 3.20800000e+00 1.45211981e+04]\n",
            " [2.35315625e+03 2.41280000e+01 1.40095510e+04]\n",
            " [2.08015625e+03 4.46080000e+01 1.33500216e+04]\n",
            " [2.48765625e+03 7.32800000e+00 1.43553157e+04]\n",
            " [3.17565625e+03 1.12928000e+02 1.57983746e+04]\n",
            " [2.76015625e+03 1.23968000e+02 1.48570804e+04]\n",
            " [4.11165625e+03 1.57088000e+02 1.79389628e+04]\n",
            " [3.43715625e+03 6.61280000e+01 1.65049040e+04]\n",
            " [2.22640625e+03 1.24328000e+02 1.35659040e+04]\n",
            " [2.15040625e+03 3.92080000e+01 1.35259040e+04]\n",
            " [3.66040625e+03 7.04080000e+01 1.70135510e+04]\n",
            " [1.65340625e+03 1.36008000e+02 1.22288452e+04]\n",
            " [3.30890625e+03 1.54568000e+02 1.61002569e+04]\n",
            " [2.62815625e+03 1.08800000e+00 1.46890804e+04]\n",
            " [2.15040625e+03 3.92080000e+01 1.35259040e+04]\n",
            " [2.20415625e+03 1.77728000e+02 1.34380216e+04]\n",
            " [3.51562500e+01 3.32556800e+03 4.17649221e+03]\n",
            " [1.71562500e+01 2.42028800e+03 5.34508045e+03]\n",
            " [5.54062500e+01 3.56592800e+03 3.90684516e+03]\n",
            " [4.06250000e-01 2.77152800e+03 4.84066869e+03]\n",
            " [1.29156250e+02 4.00652800e+03 3.49743339e+03]\n",
            " [1.38656250e+02 3.87612800e+03 3.67319810e+03]\n",
            " [3.03906250e+02 4.85072800e+03 2.76649221e+03]\n",
            " [1.31406250e+02 3.93312800e+03 3.60531574e+03]\n",
            " [3.51906250e+02 5.04432800e+03 2.62572751e+03]\n",
            " [9.15625000e+00 2.70348800e+03 4.95955104e+03]\n",
            " [1.14062500e+01 2.48448800e+03 5.25619810e+03]\n",
            " [1.52406250e+02 3.50592800e+03 4.23760986e+03]\n",
            " [2.52406250e+02 4.36128800e+03 3.28578633e+03]\n",
            " [1.74062500e+01 2.49504800e+03 5.24419810e+03]\n",
            " [9.90625000e+00 2.48640800e+03 5.24119810e+03]\n",
            " [6.26562500e+01 3.20860800e+03 4.38825692e+03]\n",
            " [2.11562500e+01 2.27412800e+03 5.55584516e+03]\n",
            " [1.89062500e+01 2.34752800e+03 5.44796280e+03]\n",
            " [5.41562500e+01 3.48788800e+03 4.01572751e+03]\n",
            " [1.74062500e+01 2.49504800e+03 5.24419810e+03]\n",
            " [9.39062500e+01 3.46224800e+03 4.12060986e+03]\n",
            " [6.90625000e+00 2.48112800e+03 5.24719810e+03]\n",
            " [6.61562500e+01 3.65004800e+03 3.82096280e+03]\n",
            " [1.21562500e+01 2.55860800e+03 5.16031574e+03]\n",
            " [1.51562500e+01 3.15540800e+03 4.36325692e+03]\n",
            " [1.16326562e+04 2.54031680e+04 1.80919810e+03]\n",
            " [8.41515625e+03 2.07285280e+04 4.83845156e+02]\n",
            " [1.01439062e+04 2.30993680e+04 1.41490398e+03]\n",
            " [8.02390625e+03 2.01148880e+04 3.91492215e+02]\n",
            " [8.17115625e+03 1.99112480e+04 9.58903979e+02]\n",
            " [7.02190625e+03 1.85168080e+04 1.98551038e+02]\n",
            " [8.08890625e+03 2.01684880e+04 5.01492215e+02]\n",
            " [7.86390625e+03 1.95272080e+04 7.61786332e+02]\n",
            " [1.28146562e+04 2.73496480e+04 1.90337457e+03]\n",
            " [7.16990625e+03 1.86556880e+04 3.82551038e+02]\n",
            " [8.99065625e+03 2.14325280e+04 9.38080450e+02]\n",
            " [1.16334062e+04 2.56411280e+04 1.45255104e+03]\n",
            " [9.04540625e+03 2.17244880e+04 6.35433391e+02]\n",
            " [1.13349062e+04 2.49206480e+04 1.66184516e+03]\n",
            " [8.30740625e+03 2.04086480e+04 6.34492215e+02]\n",
            " [5.97315625e+03 1.66666880e+04 1.90256920e+02]\n",
            " [1.42099062e+04 2.93995280e+04 2.45143339e+03]\n",
            " [6.49815625e+03 1.74897280e+04 3.10727509e+02]\n",
            " [7.50940625e+03 1.89872080e+04 7.53551038e+02]\n",
            " [5.99515625e+03 1.68251680e+04 5.94922145e+01]\n",
            " [7.72890625e+03 1.95081680e+04 5.55021626e+02]\n",
            " [6.24615625e+03 1.72286080e+04 9.47275087e+01]\n",
            " [1.08216562e+04 2.43260480e+04 1.27672751e+03]\n",
            " [4.50790625e+03 1.42236880e+04 7.57275087e+01]\n",
            " [8.29440625e+03 2.05344080e+04 4.59727509e+02]]\n",
            "[[4.17118880e+03 7.04080000e+01 2.29637536e+04]\n",
            " [4.92430880e+03 1.92168000e+02 2.46962336e+04]\n",
            " [3.30718880e+03 1.53680000e+01 2.08604736e+04]\n",
            " [3.05418880e+03 1.28848000e+02 2.00168336e+04]\n",
            " [3.47326880e+03 9.92800000e+00 2.12818336e+04]\n",
            " [2.55678880e+03 4.65680000e+01 1.88916736e+04]\n",
            " [2.98462880e+03 8.48800000e+00 2.00482336e+04]\n",
            " [3.54890880e+03 1.04480000e+01 2.14769936e+04]\n",
            " [3.33038880e+03 4.46480000e+01 2.08790336e+04]\n",
            " [2.98542880e+03 3.20800000e+00 2.00536736e+04]\n",
            " [2.75970880e+03 2.41280000e+01 1.94531536e+04]\n",
            " [2.46754880e+03 4.46080000e+01 1.86736336e+04]\n",
            " [2.91138880e+03 7.32800000e+00 1.98577936e+04]\n",
            " [3.63010880e+03 1.12928000e+02 2.15419536e+04]\n",
            " [3.20866880e+03 1.23968000e+02 2.04173136e+04]\n",
            " [4.64258880e+03 1.57088000e+02 2.40397136e+04]\n",
            " [3.93546880e+03 6.61280000e+01 2.23648336e+04]\n",
            " [2.60718880e+03 1.24328000e+02 1.89211936e+04]\n",
            " [2.54638880e+03 3.92080000e+01 1.88789536e+04]\n",
            " [4.17118880e+03 7.04080000e+01 2.29637536e+04]\n",
            " [1.99966880e+03 1.36008000e+02 1.73435936e+04]\n",
            " [3.79854880e+03 1.54568000e+02 2.18693536e+04]\n",
            " [3.06146880e+03 1.08800000e+00 2.02515536e+04]\n",
            " [2.54638880e+03 3.92080000e+01 1.88789536e+04]\n",
            " [2.57634880e+03 1.77728000e+02 1.87638736e+04]\n",
            " [5.46880000e+00 3.32556800e+03 7.35091360e+03]\n",
            " [5.63488000e+01 2.42028800e+03 8.87779360e+03]\n",
            " [1.13488000e+01 3.56592800e+03 6.99127360e+03]\n",
            " [1.37488000e+01 2.77152800e+03 8.22367360e+03]\n",
            " [6.11488000e+01 4.00652800e+03 6.43187360e+03]\n",
            " [6.88288000e+01 3.87612800e+03 6.66931360e+03]\n",
            " [1.77588800e+02 4.85072800e+03 5.43319360e+03]\n",
            " [7.19888000e+01 3.93312800e+03 6.56919360e+03]\n",
            " [2.17908800e+02 5.04432800e+03 5.23215360e+03]\n",
            " [3.29888000e+01 2.70348800e+03 8.37171360e+03]\n",
            " [5.15088000e+01 2.48448800e+03 8.75807360e+03]\n",
            " [1.35028800e+02 3.50592800e+03 7.37951360e+03]\n",
            " [1.51028800e+02 4.36128800e+03 6.13303360e+03]\n",
            " [4.99088000e+01 2.49504800e+03 8.74719360e+03]\n",
            " [4.43088000e+01 2.48640800e+03 8.74391360e+03]\n",
            " [3.87488000e+01 3.20860800e+03 7.62323360e+03]\n",
            " [7.56288000e+01 2.27412800e+03 9.14771360e+03]\n",
            " [6.47888000e+01 2.34752800e+03 9.01039360e+03]\n",
            " [2.05888000e+01 3.48788800e+03 7.12931360e+03]\n",
            " [4.99088000e+01 2.49504800e+03 8.74719360e+03]\n",
            " [5.18288000e+01 3.46224800e+03 7.26615360e+03]\n",
            " [4.51088000e+01 2.48112800e+03 8.74935360e+03]\n",
            " [1.73088000e+01 3.65004800e+03 6.87539360e+03]\n",
            " [4.74688000e+01 2.55860800e+03 8.63219360e+03]\n",
            " [7.48800000e-01 3.15540800e+03 7.59683360e+03]\n",
            " [1.08201888e+04 2.54031680e+04 7.39073600e+02]\n",
            " [7.68138880e+03 2.07285280e+04 1.61936000e+01]\n",
            " [9.39742880e+03 2.30993680e+04 6.72793600e+02]\n",
            " [7.30830880e+03 2.01148880e+04 1.32736000e+01]\n",
            " [7.45290880e+03 1.99112480e+04 7.34593600e+02]\n",
            " [6.35982880e+03 1.85168080e+04 5.80736000e+01]\n",
            " [7.39230880e+03 2.01684880e+04 1.20473600e+02]\n",
            " [7.15614880e+03 1.95272080e+04 5.66633600e+02]\n",
            " [1.19029888e+04 2.73496480e+04 5.40833600e+02]\n",
            " [6.52302880e+03 1.86556880e+04 2.39833600e+02]\n",
            " [8.27770880e+03 2.14325280e+04 4.05953600e+02]\n",
            " [1.07780688e+04 2.56411280e+04 2.96633600e+02]\n",
            " [8.28958880e+03 2.17244880e+04 1.75136000e+01]\n",
            " [1.04779088e+04 2.49206480e+04 6.90393600e+02]\n",
            " [7.57470880e+03 2.04086480e+04 2.58793600e+02]\n",
            " [5.35426880e+03 1.66666880e+04 3.81153600e+02]\n",
            " [1.32646288e+04 2.93995280e+04 8.17513600e+02]\n",
            " [5.85250880e+03 1.74897280e+04 3.82753600e+02]\n",
            " [6.87582880e+03 1.89872080e+04 6.08873600e+02]\n",
            " [5.38378880e+03 1.68251680e+04 1.87873600e+02]\n",
            " [7.06286880e+03 1.95081680e+04 2.92313600e+02]\n",
            " [5.61570880e+03 1.72286080e+04 1.64513600e+02]\n",
            " [9.98274880e+03 2.43260480e+04 3.33313600e+02]\n",
            " [3.99118880e+03 1.42236880e+04 6.50713600e+02]\n",
            " [7.56542880e+03 2.05344080e+04 2.20736000e+01]]\n",
            "The two arrays are equal for K: 3\n",
            "[-6213. -6297.]\n",
            "[-6213. -6297.]\n",
            "-20652.000000000044\n",
            "-20652.000000000044\n"
          ]
        }
      ],
      "source": [
        "label = main(data, data_mean)"
      ]
    },
    {
      "cell_type": "code",
      "execution_count": 10,
      "metadata": {
        "id": "WrxkrhS3ZQzL"
      },
      "outputs": [],
      "source": [
        "from sklearn.cluster import KMeans\n",
        "from scipy.spatial import distance\n",
        "\n",
        "\n",
        "km = KMeans(\n",
        "    n_clusters=3, init='random',\n",
        "    n_init=10, max_iter=300, \n",
        "    tol=1e-04, random_state=0\n",
        ")\n",
        "\n",
        "distortions = []\n",
        "inertias = []\n",
        "mapping1 = {}\n",
        "mapping2 = {}\n",
        "K = range(1, 10)\n",
        "\n",
        "for k in K:\n",
        "\t# Building and fitting the model\n",
        "\tkmeanModel = KMeans(n_clusters=k).fit(data)\n",
        "\tkmeanModel.fit(data)\n",
        "\n",
        "\tdistortions.append(sum(np.min(distance.cdist(data, kmeanModel.cluster_centers_,\n",
        "\t\t\t\t\t\t\t\t\t\t'euclidean'), axis=1)) / data.shape[0])\n",
        "\tinertias.append(kmeanModel.inertia_)\n",
        "\n",
        "\tmapping1[k] = sum(np.min(distance.cdist(data, kmeanModel.cluster_centers_,\n",
        "\t\t\t\t\t\t\t\t'euclidean'), axis=1)) / data.shape[0]\n",
        "\tmapping2[k] = kmeanModel.inertia_\n"
      ]
    },
    {
      "cell_type": "code",
      "source": [
        "plt.plot(K, distortions, 'bx-')\n",
        "plt.xlabel('Values of K')\n",
        "plt.ylabel('Distortion')\n",
        "plt.title('The Elbow Method using Distortion')\n",
        "plt.show()\n"
      ],
      "metadata": {
        "colab": {
          "base_uri": "https://localhost:8080/",
          "height": 295
        },
        "id": "PKhKiwlT3LxX",
        "outputId": "90a0f46d-8d75-4dd4-8c22-af039b9f9bf5"
      },
      "execution_count": 11,
      "outputs": [
        {
          "output_type": "display_data",
          "data": {
            "text/plain": [
              "<Figure size 432x288 with 1 Axes>"
            ],
            "image/png": "[encoded data removed]"
          },
          "metadata": {
            "needs_background": "light"
          }
        }
      ]
    },
    {
      "cell_type": "code",
      "source": [
        "plt.scatter(data_x, data_y)\n",
        "plt.show()"
      ],
      "metadata": {
        "colab": {
          "base_uri": "https://localhost:8080/",
          "height": 265
        },
        "id": "0ZBevgSz4BAw",
        "outputId": "58b131bf-5137-4d74-8aff-b83df7b10d9d"
      },
      "execution_count": 12,
      "outputs": [
        {
          "output_type": "display_data",
          "data": {
            "text/plain": [
              "<Figure size 432x288 with 1 Axes>"
            ],
            "image/png": "[encoded data removed]"
          },
          "metadata": {
            "needs_background": "light"
          }
        }
      ]
    },
    {
      "cell_type": "code",
      "source": [
        "print(\"Optimal K value is 3\")"
      ],
      "metadata": {
        "colab": {
          "base_uri": "https://localhost:8080/"
        },
        "id": "FXnNYoUz4wxn",
        "outputId": "eb6f0264-45f2-4a41-9696-c489883b0dd6"
      },
      "execution_count": 20,
      "outputs": [
        {
          "output_type": "stream",
          "name": "stdout",
          "text": [
            "Optimal K value is 3\n"
          ]
        }
      ]
    },
    {
      "cell_type": "code",
      "source": [
        "#Getting unique labels\n",
        " \n",
        "u_labels = np.unique(label)\n",
        " \n",
        "for i in u_labels:\n",
        "    plt.scatter(data[label == i , 0] , data[label == i , 1] , label = i)\n",
        "plt.legend()\n",
        "plt.show()"
      ],
      "metadata": {
        "id": "8v9biA6AlH37",
        "colab": {
          "base_uri": "https://localhost:8080/",
          "height": 265
        },
        "outputId": "26aac5a6-8834-4664-a99a-2916f74c9712"
      },
      "execution_count": 31,
      "outputs": [
        {
          "output_type": "display_data",
          "data": {
            "text/plain": [
              "<Figure size 432x288 with 1 Axes>"
            ],
            "image/png": "[encoded data removed]"
          },
          "metadata": {
            "needs_background": "light"
          }
        }
      ]
    },
    {
      "cell_type": "code",
      "source": [],
      "metadata": {
        "id": "yPZaNnrs4Hgu"
      },
      "execution_count": null,
      "outputs": []
    }
  ],
  "metadata": {
    "kernelspec": {
      "display_name": "Python 3.10.6 ('aikr')",
      "language": "python",
      "name": "python3"
    },
    "language_info": {
      "codemirror_mode": {
        "name": "ipython",
        "version": 3
      },
      "file_extension": ".py",
      "mimetype": "text/x-python",
      "name": "python",
      "nbconvert_exporter": "python",
      "pygments_lexer": "ipython3",
      "version": "3.10.6"
    },
    "orig_nbformat": 4,
    "vscode": {
      "interpreter": {
        "hash": "b5cbcb2e7a436146f2ebede0c6fc49912a11acd898b062d94ddd451e1d545775"
      }
    },
    "colab": {
      "provenance": []
    }
  },
  "nbformat": 4,
  "nbformat_minor": 0
}